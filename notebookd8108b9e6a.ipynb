{
 "cells": [
  {
   "cell_type": "code",
   "execution_count": 1,
   "id": "371708ce",
   "metadata": {
    "_cell_guid": "b1076dfc-b9ad-4769-8c92-a6c4dae69d19",
    "_uuid": "8f2839f25d086af736a60e9eeb907d3b93b6e0e5",
    "execution": {
     "iopub.execute_input": "2022-07-04T20:23:40.901366Z",
     "iopub.status.busy": "2022-07-04T20:23:40.900878Z",
     "iopub.status.idle": "2022-07-04T20:23:40.925785Z",
     "shell.execute_reply": "2022-07-04T20:23:40.923945Z"
    },
    "papermill": {
     "duration": 0.034989,
     "end_time": "2022-07-04T20:23:40.928815",
     "exception": false,
     "start_time": "2022-07-04T20:23:40.893826",
     "status": "completed"
    },
    "tags": []
   },
   "outputs": [
    {
     "name": "stdout",
     "output_type": "stream",
     "text": [
      "/kaggle/input/titanic/train.csv\n",
      "/kaggle/input/titanic/test.csv\n",
      "/kaggle/input/titanic/gender_submission.csv\n"
     ]
    }
   ],
   "source": [
    "# This Python 3 environment comes with many helpful analytics libraries installed\n",
    "# It is defined by the kaggle/python Docker image: https://github.com/kaggle/docker-python\n",
    "# For example, here's several helpful packages to load\n",
    "\n",
    "import numpy as np # linear algebra\n",
    "import pandas as pd # data processing, CSV file I/O (e.g. pd.read_csv)\n",
    "\n",
    "# Input data files are available in the read-only \"../input/\" directory\n",
    "# For example, running this (by clicking run or pressing Shift+Enter) will list all files under the input directory\n",
    "\n",
    "import os\n",
    "for dirname, _, filenames in os.walk('/kaggle/input'):\n",
    "    for filename in filenames:\n",
    "        print(os.path.join(dirname, filename))\n",
    "\n",
    "# You can write up to 20GB to the current directory (/kaggle/working/) that gets preserved as output when you create a version using \"Save & Run All\" \n",
    "# You can also write temporary files to /kaggle/temp/, but they won't be saved outside of the current session"
   ]
  },
  {
   "cell_type": "markdown",
   "id": "63a2f665",
   "metadata": {
    "papermill": {
     "duration": 0.004672,
     "end_time": "2022-07-04T20:23:40.937928",
     "exception": false,
     "start_time": "2022-07-04T20:23:40.933256",
     "status": "completed"
    },
    "tags": []
   },
   "source": [
    "This notebook is based on:\n",
    "https://www.kaggle.com/code/cocorin/yh-cur-titanic-top-4-with-ensemble-modeling\n"
   ]
  },
  {
   "cell_type": "markdown",
   "id": "ca431dbc",
   "metadata": {
    "papermill": {
     "duration": 0.004514,
     "end_time": "2022-07-04T20:23:40.946790",
     "exception": false,
     "start_time": "2022-07-04T20:23:40.942276",
     "status": "completed"
    },
    "tags": []
   },
   "source": [
    "Workflow:\n",
    "##### 2 Load and check data\n",
    "\n",
    "    2.1 load data\n",
    "    2.2 Outlier detection\n",
    "    2.3 joining train and test set\n",
    "    2.4 null and missing values\n",
    "\n",
    "##### 3 Feature analysis\n",
    "\n",
    "    3.1 Numerical values\n",
    "    3.2 Categorical values\n",
    "\n",
    "##### 4 Filling missing Values\n",
    "\n",
    "##### 5 Feature engineering\n",
    "\n",
    "    5.1 tool 1\n",
    "    5.2 tool 2\n",
    "    5.3 tool 3\n",
    "    5.4 tool 4\n",
    "\n",
    "##### 6 Modeling\n",
    "\n",
    "    6.1 Simple modeling\n",
    "        6.1.1 Cross validate models.\n",
    "        6.1.2 Hyperparameter tunning for best models\n",
    "        6.1.3 Plot learning curves\n",
    "        6.1.4 Feature importance of the tree based classifiers\n",
    "    6.2 Ensemble modeling\n",
    "        6.2.1 Combining models\n",
    "    6.3 Prediction\n",
    "        6.3.1 Predict and Submit results\n",
    "\n"
   ]
  },
  {
   "cell_type": "code",
   "execution_count": 2,
   "id": "3873d49d",
   "metadata": {
    "execution": {
     "iopub.execute_input": "2022-07-04T20:23:40.957802Z",
     "iopub.status.busy": "2022-07-04T20:23:40.957333Z",
     "iopub.status.idle": "2022-07-04T20:23:42.791252Z",
     "shell.execute_reply": "2022-07-04T20:23:42.790070Z"
    },
    "papermill": {
     "duration": 1.843355,
     "end_time": "2022-07-04T20:23:42.794576",
     "exception": false,
     "start_time": "2022-07-04T20:23:40.951221",
     "status": "completed"
    },
    "tags": []
   },
   "outputs": [
    {
     "name": "stdout",
     "output_type": "stream",
     "text": [
      "all imports loaded\n"
     ]
    }
   ],
   "source": [
    "import pandas as pd\n",
    "import numpy as np\n",
    "import matplotlib.pyplot as plt\n",
    "import seaborn as sns\n",
    "%matplotlib inline\n",
    "\n",
    "import warnings\n",
    "warnings.filterwarnings('ignore')\n",
    "\n",
    "from collections import Counter\n",
    "\n",
    "from sklearn.ensemble import RandomForestClassifier, AdaBoostClassifier, GradientBoostingClassifier, ExtraTreesClassifier, VotingClassifier\n",
    "from sklearn.discriminant_analysis import LinearDiscriminantAnalysis\n",
    "from sklearn.linear_model import LogisticRegression\n",
    "from sklearn.neighbors import KNeighborsClassifier\n",
    "from sklearn.tree import DecisionTreeClassifier\n",
    "from sklearn.neural_network import MLPClassifier\n",
    "from sklearn.svm import SVC\n",
    "from sklearn.model_selection import GridSearchCV, cross_val_score, StratifiedKFold, learning_curve\n",
    "\n",
    "print('all imports loaded')"
   ]
  },
  {
   "cell_type": "code",
   "execution_count": 3,
   "id": "4c1a23e3",
   "metadata": {
    "execution": {
     "iopub.execute_input": "2022-07-04T20:23:42.806629Z",
     "iopub.status.busy": "2022-07-04T20:23:42.805636Z",
     "iopub.status.idle": "2022-07-04T20:23:42.857792Z",
     "shell.execute_reply": "2022-07-04T20:23:42.856659Z"
    },
    "papermill": {
     "duration": 0.06098,
     "end_time": "2022-07-04T20:23:42.860891",
     "exception": false,
     "start_time": "2022-07-04T20:23:42.799911",
     "status": "completed"
    },
    "tags": []
   },
   "outputs": [],
   "source": [
    "# Load data\n",
    "# make sure to add your data to the notebook look --> and click + add data \n",
    "train = pd.read_csv('../input/titanic/train.csv')\n",
    "test = pd.read_csv('../input/titanic/test.csv')\n",
    "\n",
    "## join train and test datasets in order to obtain the same number of features during categorical conversion\n",
    "train_len= len(train)\n",
    "dataset= pd.concat(objs= [train, test], axis= 0).reset_index(drop= True)"
   ]
  },
  {
   "cell_type": "code",
   "execution_count": 4,
   "id": "64ff25cc",
   "metadata": {
    "execution": {
     "iopub.execute_input": "2022-07-04T20:23:42.872251Z",
     "iopub.status.busy": "2022-07-04T20:23:42.871877Z",
     "iopub.status.idle": "2022-07-04T20:23:42.890166Z",
     "shell.execute_reply": "2022-07-04T20:23:42.889203Z"
    },
    "papermill": {
     "duration": 0.027638,
     "end_time": "2022-07-04T20:23:42.893118",
     "exception": false,
     "start_time": "2022-07-04T20:23:42.865480",
     "status": "completed"
    },
    "tags": []
   },
   "outputs": [],
   "source": [
    "# Outlier detection\n",
    "\n",
    "def detect_outliers(df, n, features):\n",
    "    '''\n",
    "    Takes a dataframe df of features and returns a list of the indices corresponding\n",
    "    to the obeservations containing more than n outliers according to the Tukey method\n",
    "    '''\n",
    "    outlier_indices= []\n",
    "    \n",
    "    # iterate over features(columns)\n",
    "    for col in features:\n",
    "        # 1st quartile (25%)\n",
    "        Q1 = np.percentile(df[col], 25)\n",
    "        # 3rd quartile (75%)\n",
    "        Q3 = np.percentile(df[col], 75)\n",
    "        # Interquartile range (IQR)\n",
    "        IQR = Q3 - Q1\n",
    "        \n",
    "        # outlier step\n",
    "        outlier_step= 1.5* IQR\n",
    "        \n",
    "        # Determine a list of indices of outliers for feature col\n",
    "        outlier_list_col= df[(df[col]< Q1 - outlier_step) | (df[col]> Q3 + outlier_step)].index\n",
    "        \n",
    "        # append the found outlier indices for col to the list of outlier in dices\n",
    "        outlier_indices.extend(outlier_list_col)\n",
    "        \n",
    "    # select observations contaning more than 2 outliers\n",
    "    outlier_indices= Counter(outlier_indices)\n",
    "    multiple_outliers= list(k for k, v in outlier_indices.items() if v> n)\n",
    "    \n",
    "    return multiple_outliers\n",
    "\n",
    "# detect outliers from selected columns\n",
    "Outliers_to_drop= detect_outliers(train, 2, ['Age', 'SibSp', 'Parch', 'Fare'])"
   ]
  },
  {
   "cell_type": "code",
   "execution_count": 5,
   "id": "a20e2be0",
   "metadata": {
    "execution": {
     "iopub.execute_input": "2022-07-04T20:23:42.905573Z",
     "iopub.status.busy": "2022-07-04T20:23:42.904258Z",
     "iopub.status.idle": "2022-07-04T20:23:42.936527Z",
     "shell.execute_reply": "2022-07-04T20:23:42.935059Z"
    },
    "papermill": {
     "duration": 0.040725,
     "end_time": "2022-07-04T20:23:42.938918",
     "exception": false,
     "start_time": "2022-07-04T20:23:42.898193",
     "status": "completed"
    },
    "tags": []
   },
   "outputs": [
    {
     "data": {
      "text/html": [
       "<div>\n",
       "<style scoped>\n",
       "    .dataframe tbody tr th:only-of-type {\n",
       "        vertical-align: middle;\n",
       "    }\n",
       "\n",
       "    .dataframe tbody tr th {\n",
       "        vertical-align: top;\n",
       "    }\n",
       "\n",
       "    .dataframe thead th {\n",
       "        text-align: right;\n",
       "    }\n",
       "</style>\n",
       "<table border=\"1\" class=\"dataframe\">\n",
       "  <thead>\n",
       "    <tr style=\"text-align: right;\">\n",
       "      <th></th>\n",
       "      <th>PassengerId</th>\n",
       "      <th>Survived</th>\n",
       "      <th>Pclass</th>\n",
       "      <th>Name</th>\n",
       "      <th>Sex</th>\n",
       "      <th>Age</th>\n",
       "      <th>SibSp</th>\n",
       "      <th>Parch</th>\n",
       "      <th>Ticket</th>\n",
       "      <th>Fare</th>\n",
       "      <th>Cabin</th>\n",
       "      <th>Embarked</th>\n",
       "    </tr>\n",
       "  </thead>\n",
       "  <tbody>\n",
       "    <tr>\n",
       "      <th>27</th>\n",
       "      <td>28</td>\n",
       "      <td>0</td>\n",
       "      <td>1</td>\n",
       "      <td>Fortune, Mr. Charles Alexander</td>\n",
       "      <td>male</td>\n",
       "      <td>19.0</td>\n",
       "      <td>3</td>\n",
       "      <td>2</td>\n",
       "      <td>19950</td>\n",
       "      <td>263.00</td>\n",
       "      <td>C23 C25 C27</td>\n",
       "      <td>S</td>\n",
       "    </tr>\n",
       "    <tr>\n",
       "      <th>88</th>\n",
       "      <td>89</td>\n",
       "      <td>1</td>\n",
       "      <td>1</td>\n",
       "      <td>Fortune, Miss. Mabel Helen</td>\n",
       "      <td>female</td>\n",
       "      <td>23.0</td>\n",
       "      <td>3</td>\n",
       "      <td>2</td>\n",
       "      <td>19950</td>\n",
       "      <td>263.00</td>\n",
       "      <td>C23 C25 C27</td>\n",
       "      <td>S</td>\n",
       "    </tr>\n",
       "    <tr>\n",
       "      <th>159</th>\n",
       "      <td>160</td>\n",
       "      <td>0</td>\n",
       "      <td>3</td>\n",
       "      <td>Sage, Master. Thomas Henry</td>\n",
       "      <td>male</td>\n",
       "      <td>NaN</td>\n",
       "      <td>8</td>\n",
       "      <td>2</td>\n",
       "      <td>CA. 2343</td>\n",
       "      <td>69.55</td>\n",
       "      <td>NaN</td>\n",
       "      <td>S</td>\n",
       "    </tr>\n",
       "    <tr>\n",
       "      <th>180</th>\n",
       "      <td>181</td>\n",
       "      <td>0</td>\n",
       "      <td>3</td>\n",
       "      <td>Sage, Miss. Constance Gladys</td>\n",
       "      <td>female</td>\n",
       "      <td>NaN</td>\n",
       "      <td>8</td>\n",
       "      <td>2</td>\n",
       "      <td>CA. 2343</td>\n",
       "      <td>69.55</td>\n",
       "      <td>NaN</td>\n",
       "      <td>S</td>\n",
       "    </tr>\n",
       "    <tr>\n",
       "      <th>201</th>\n",
       "      <td>202</td>\n",
       "      <td>0</td>\n",
       "      <td>3</td>\n",
       "      <td>Sage, Mr. Frederick</td>\n",
       "      <td>male</td>\n",
       "      <td>NaN</td>\n",
       "      <td>8</td>\n",
       "      <td>2</td>\n",
       "      <td>CA. 2343</td>\n",
       "      <td>69.55</td>\n",
       "      <td>NaN</td>\n",
       "      <td>S</td>\n",
       "    </tr>\n",
       "    <tr>\n",
       "      <th>324</th>\n",
       "      <td>325</td>\n",
       "      <td>0</td>\n",
       "      <td>3</td>\n",
       "      <td>Sage, Mr. George John Jr</td>\n",
       "      <td>male</td>\n",
       "      <td>NaN</td>\n",
       "      <td>8</td>\n",
       "      <td>2</td>\n",
       "      <td>CA. 2343</td>\n",
       "      <td>69.55</td>\n",
       "      <td>NaN</td>\n",
       "      <td>S</td>\n",
       "    </tr>\n",
       "    <tr>\n",
       "      <th>341</th>\n",
       "      <td>342</td>\n",
       "      <td>1</td>\n",
       "      <td>1</td>\n",
       "      <td>Fortune, Miss. Alice Elizabeth</td>\n",
       "      <td>female</td>\n",
       "      <td>24.0</td>\n",
       "      <td>3</td>\n",
       "      <td>2</td>\n",
       "      <td>19950</td>\n",
       "      <td>263.00</td>\n",
       "      <td>C23 C25 C27</td>\n",
       "      <td>S</td>\n",
       "    </tr>\n",
       "    <tr>\n",
       "      <th>792</th>\n",
       "      <td>793</td>\n",
       "      <td>0</td>\n",
       "      <td>3</td>\n",
       "      <td>Sage, Miss. Stella Anna</td>\n",
       "      <td>female</td>\n",
       "      <td>NaN</td>\n",
       "      <td>8</td>\n",
       "      <td>2</td>\n",
       "      <td>CA. 2343</td>\n",
       "      <td>69.55</td>\n",
       "      <td>NaN</td>\n",
       "      <td>S</td>\n",
       "    </tr>\n",
       "    <tr>\n",
       "      <th>846</th>\n",
       "      <td>847</td>\n",
       "      <td>0</td>\n",
       "      <td>3</td>\n",
       "      <td>Sage, Mr. Douglas Bullen</td>\n",
       "      <td>male</td>\n",
       "      <td>NaN</td>\n",
       "      <td>8</td>\n",
       "      <td>2</td>\n",
       "      <td>CA. 2343</td>\n",
       "      <td>69.55</td>\n",
       "      <td>NaN</td>\n",
       "      <td>S</td>\n",
       "    </tr>\n",
       "    <tr>\n",
       "      <th>863</th>\n",
       "      <td>864</td>\n",
       "      <td>0</td>\n",
       "      <td>3</td>\n",
       "      <td>Sage, Miss. Dorothy Edith \"Dolly\"</td>\n",
       "      <td>female</td>\n",
       "      <td>NaN</td>\n",
       "      <td>8</td>\n",
       "      <td>2</td>\n",
       "      <td>CA. 2343</td>\n",
       "      <td>69.55</td>\n",
       "      <td>NaN</td>\n",
       "      <td>S</td>\n",
       "    </tr>\n",
       "  </tbody>\n",
       "</table>\n",
       "</div>"
      ],
      "text/plain": [
       "     PassengerId  Survived  Pclass                               Name     Sex  \\\n",
       "27            28         0       1     Fortune, Mr. Charles Alexander    male   \n",
       "88            89         1       1         Fortune, Miss. Mabel Helen  female   \n",
       "159          160         0       3         Sage, Master. Thomas Henry    male   \n",
       "180          181         0       3       Sage, Miss. Constance Gladys  female   \n",
       "201          202         0       3                Sage, Mr. Frederick    male   \n",
       "324          325         0       3           Sage, Mr. George John Jr    male   \n",
       "341          342         1       1     Fortune, Miss. Alice Elizabeth  female   \n",
       "792          793         0       3            Sage, Miss. Stella Anna  female   \n",
       "846          847         0       3           Sage, Mr. Douglas Bullen    male   \n",
       "863          864         0       3  Sage, Miss. Dorothy Edith \"Dolly\"  female   \n",
       "\n",
       "      Age  SibSp  Parch    Ticket    Fare        Cabin Embarked  \n",
       "27   19.0      3      2     19950  263.00  C23 C25 C27        S  \n",
       "88   23.0      3      2     19950  263.00  C23 C25 C27        S  \n",
       "159   NaN      8      2  CA. 2343   69.55          NaN        S  \n",
       "180   NaN      8      2  CA. 2343   69.55          NaN        S  \n",
       "201   NaN      8      2  CA. 2343   69.55          NaN        S  \n",
       "324   NaN      8      2  CA. 2343   69.55          NaN        S  \n",
       "341  24.0      3      2     19950  263.00  C23 C25 C27        S  \n",
       "792   NaN      8      2  CA. 2343   69.55          NaN        S  \n",
       "846   NaN      8      2  CA. 2343   69.55          NaN        S  \n",
       "863   NaN      8      2  CA. 2343   69.55          NaN        S  "
      ]
     },
     "execution_count": 5,
     "metadata": {},
     "output_type": "execute_result"
    }
   ],
   "source": [
    "# Show the outliers row\n",
    "train.loc[Outliers_to_drop] "
   ]
  },
  {
   "cell_type": "code",
   "execution_count": 6,
   "id": "2da4c8d6",
   "metadata": {
    "execution": {
     "iopub.execute_input": "2022-07-04T20:23:42.950999Z",
     "iopub.status.busy": "2022-07-04T20:23:42.950607Z",
     "iopub.status.idle": "2022-07-04T20:23:42.957729Z",
     "shell.execute_reply": "2022-07-04T20:23:42.956527Z"
    },
    "papermill": {
     "duration": 0.01633,
     "end_time": "2022-07-04T20:23:42.960413",
     "exception": false,
     "start_time": "2022-07-04T20:23:42.944083",
     "status": "completed"
    },
    "tags": []
   },
   "outputs": [],
   "source": [
    "# uncomment the line below to drop outliers\n",
    "train= train.drop(Outliers_to_drop, axis= 0).reset_index(drop= True)"
   ]
  },
  {
   "cell_type": "code",
   "execution_count": 7,
   "id": "6d41acfd",
   "metadata": {
    "execution": {
     "iopub.execute_input": "2022-07-04T20:23:42.972387Z",
     "iopub.status.busy": "2022-07-04T20:23:42.972018Z",
     "iopub.status.idle": "2022-07-04T20:23:42.987707Z",
     "shell.execute_reply": "2022-07-04T20:23:42.986540Z"
    },
    "papermill": {
     "duration": 0.024504,
     "end_time": "2022-07-04T20:23:42.990126",
     "exception": false,
     "start_time": "2022-07-04T20:23:42.965622",
     "status": "completed"
    },
    "tags": []
   },
   "outputs": [
    {
     "data": {
      "text/plain": [
       "Cabin          1014\n",
       "Survived        418\n",
       "Age             263\n",
       "Embarked          2\n",
       "Fare              1\n",
       "PassengerId       0\n",
       "Pclass            0\n",
       "Name              0\n",
       "Sex               0\n",
       "SibSp             0\n",
       "Parch             0\n",
       "Ticket            0\n",
       "dtype: int64"
      ]
     },
     "execution_count": 7,
     "metadata": {},
     "output_type": "execute_result"
    }
   ],
   "source": [
    "# Fill empty and NaNs values with NaN\n",
    "dataset= dataset.fillna(np.nan)\n",
    "\n",
    "# Check for Null values\n",
    "dataset.isnull().sum().sort_values(ascending= False)"
   ]
  }
 ],
 "metadata": {
  "kernelspec": {
   "display_name": "Python 3",
   "language": "python",
   "name": "python3"
  },
  "language_info": {
   "codemirror_mode": {
    "name": "ipython",
    "version": 3
   },
   "file_extension": ".py",
   "mimetype": "text/x-python",
   "name": "python",
   "nbconvert_exporter": "python",
   "pygments_lexer": "ipython3",
   "version": "3.7.12"
  },
  "papermill": {
   "default_parameters": {},
   "duration": 15.776307,
   "end_time": "2022-07-04T20:23:44.019113",
   "environment_variables": {},
   "exception": null,
   "input_path": "__notebook__.ipynb",
   "output_path": "__notebook__.ipynb",
   "parameters": {},
   "start_time": "2022-07-04T20:23:28.242806",
   "version": "2.3.4"
  }
 },
 "nbformat": 4,
 "nbformat_minor": 5
}
